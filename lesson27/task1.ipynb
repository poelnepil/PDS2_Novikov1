{
 "cells": [
  {
   "cell_type": "markdown",
   "id": "ad2ea826",
   "metadata": {},
   "source": [
    "**Мікропроцесор має 10000 транзисторів, які працюють незалежно один від одного. Імовірність того, що транзистор вийде з ладу під час роботи, є величиною малоймовірною і становить 0,0007. Визначити математичне очікування M(X) і середнє квадратичне відхилення S(X) випадкової величини X - числа транзисторів, що вийдуть із ладу під час роботи мікропроцесора.**\n",
    "\n",
    "$\n",
    "M(x) = n\\cdot p = 10000 \\cdot 0,0007 = 7 - очікування\n",
    "$\n",
    "\n",
    "$\n",
    "D(x) = M(x) = n\\cdot p = 10000 \\cdot 0,0007 = 7 - дисперсія\n",
    "$\n",
    "\n",
    "$\n",
    "\\delta(x) = \\sqrt{n\\cdot p} = \\sqrt{7} = 2,64 - \n",
    "відхилення\n",
    "$"
   ]
  }
 ],
 "metadata": {
  "kernelspec": {
   "display_name": "Python 3 (ipykernel)",
   "language": "python",
   "name": "python3"
  },
  "language_info": {
   "codemirror_mode": {
    "name": "ipython",
    "version": 3
   },
   "file_extension": ".py",
   "mimetype": "text/x-python",
   "name": "python",
   "nbconvert_exporter": "python",
   "pygments_lexer": "ipython3",
   "version": "3.9.7"
  }
 },
 "nbformat": 4,
 "nbformat_minor": 5
}
