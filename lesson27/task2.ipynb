{
 "cells": [
  {
   "cell_type": "markdown",
   "id": "53aaee60",
   "metadata": {},
   "source": [
    "**У рибальскому містечку 99,99% чоовіків хоча б раз були на рибалці. Проводять соціологічні дослідження серед 10000 навмання вибраних чоловіків. Визначити дисперсію D(X) і середнє квадратичне відхилення S(X) випадквої величини X - числа чоловіків, які жодного разу не були на рибалці.**\n",
    "\n",
    "$\n",
    "n = 10000;\n",
    "p = {100 - 99,99\\over100} = 0,0001 - ймовірність\n",
    "$\n",
    "\n",
    "$\n",
    "D(x) = n\\cdot p = 10000 \\cdot 0,0001 = 1 - дисперсія\n",
    "$\n",
    "\n",
    "$\n",
    "\\delta(x) = \\sqrt{n\\cdot p} = \\sqrt{1} = 1 - \n",
    "відхилення\n",
    "$"
   ]
  }
 ],
 "metadata": {
  "kernelspec": {
   "display_name": "Python 3 (ipykernel)",
   "language": "python",
   "name": "python3"
  },
  "language_info": {
   "codemirror_mode": {
    "name": "ipython",
    "version": 3
   },
   "file_extension": ".py",
   "mimetype": "text/x-python",
   "name": "python",
   "nbconvert_exporter": "python",
   "pygments_lexer": "ipython3",
   "version": "3.9.7"
  }
 },
 "nbformat": 4,
 "nbformat_minor": 5
}
