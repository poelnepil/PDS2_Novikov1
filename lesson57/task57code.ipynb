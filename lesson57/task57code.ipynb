{
 "cells": [
  {
   "cell_type": "code",
   "execution_count": 1,
   "id": "3468155c",
   "metadata": {},
   "outputs": [],
   "source": [
    "from PIL import Image, ImageEnhance\n",
    "import numpy as np\n",
    "import cv2\n",
    "import matplotlib.pyplot as plt\n",
    "import matplotlib.colors as clr"
   ]
  },
  {
   "cell_type": "markdown",
   "id": "f857a025",
   "metadata": {},
   "source": [
    "# Функція для зчитування зображення з диску та його відображення на екрані"
   ]
  },
  {
   "cell_type": "code",
   "execution_count": 2,
   "id": "3da734c2",
   "metadata": {},
   "outputs": [],
   "source": [
    "def read(img):\n",
    "    img = cv2.imread(img)\n",
    "    img_RGB = cv2.cvtColor(img, cv2.COLOR_BGR2RGB)\n",
    "    plt.imshow(img_RGB)\n",
    "    plt.axis('off')\n",
    "    plt.show()\n",
    "    return img_RGB"
   ]
  },
  {
   "cell_type": "markdown",
   "id": "79fabc6b",
   "metadata": {},
   "source": [
    "# Функція для збереження зображення на диск"
   ]
  },
  {
   "cell_type": "code",
   "execution_count": 3,
   "id": "05d5d1d8",
   "metadata": {},
   "outputs": [],
   "source": [
    "def save(path, img):\n",
    "    isWritten = cv2.imwrite(path, img)\n",
    "    feedback = 'done'\n",
    "    return feedback"
   ]
  },
  {
   "cell_type": "markdown",
   "id": "b3f74d89",
   "metadata": {},
   "source": [
    "# Функцї для піксельних операцій"
   ]
  },
  {
   "cell_type": "markdown",
   "id": "7cb32552",
   "metadata": {},
   "source": [
    "## зміна контрастності "
   ]
  },
  {
   "cell_type": "code",
   "execution_count": 4,
   "id": "8cecc344",
   "metadata": {},
   "outputs": [],
   "source": [
    "def contrast(img, lighting, contrast):\n",
    "    ench = ImageEnhance.Brightness(img)\n",
    "    img = ench.enhance(lighting)\n",
    "    ench = ImageEnhance.Contrast(img)\n",
    "    img = ench.enhance(contrast)\n",
    "    img.show()\n",
    "    return img"
   ]
  },
  {
   "cell_type": "markdown",
   "id": "ba237e59",
   "metadata": {},
   "source": [
    "## зміна яскравості"
   ]
  },
  {
   "cell_type": "code",
   "execution_count": 5,
   "id": "b78c9f6a",
   "metadata": {},
   "outputs": [],
   "source": [
    "def bright(img, lighting):\n",
    "    ench = ImageEnhance.Brightness(img)\n",
    "    img = ench.enhance(lighting)\n",
    "    img.show()\n",
    "    return img"
   ]
  },
  {
   "cell_type": "markdown",
   "id": "9ced5841",
   "metadata": {},
   "source": []
  }
 ],
 "metadata": {
  "kernelspec": {
   "display_name": "Python 3 (ipykernel)",
   "language": "python",
   "name": "python3"
  },
  "language_info": {
   "codemirror_mode": {
    "name": "ipython",
    "version": 3
   },
   "file_extension": ".py",
   "mimetype": "text/x-python",
   "name": "python",
   "nbconvert_exporter": "python",
   "pygments_lexer": "ipython3",
   "version": "3.9.7"
  }
 },
 "nbformat": 4,
 "nbformat_minor": 5
}
