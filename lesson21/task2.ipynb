{
 "cells": [
  {
   "cell_type": "code",
   "execution_count": 1,
   "id": "27633072",
   "metadata": {},
   "outputs": [
    {
     "name": "stdout",
     "output_type": "stream",
     "text": [
      "1 1 1\n",
      "0 1 1\n",
      "0 0 1\n"
     ]
    },
    {
     "data": {
      "text/plain": [
       "[None, None, None]"
      ]
     },
     "execution_count": 1,
     "metadata": {},
     "output_type": "execute_result"
    }
   ],
   "source": [
    "def convert_sq_matrix(matrix):\n",
    "    n = len(matrix)\n",
    "    matrix0 = [[0] * n for _ in range(n)]\n",
    "    for i in range(n):\n",
    "        for j in range(n):\n",
    "            if (i <= j and i <= n - 1 - j) or (i <= j and i >= n - 1 - j):\n",
    "                matrix0[i][j] += matrix[i][j]\n",
    "    return matrix0\n",
    "\n",
    "\n",
    "\n",
    "a = convert_sq_matrix([[1, 1, 1],\n",
    "                       [1, 1, 1],\n",
    "                       [1, 1, 1]])\n",
    "\n",
    "[print(*i) for i in a]"
   ]
  },
  {
   "cell_type": "code",
   "execution_count": null,
   "id": "209483f2",
   "metadata": {},
   "outputs": [],
   "source": []
  }
 ],
 "metadata": {
  "kernelspec": {
   "display_name": "Python 3 (ipykernel)",
   "language": "python",
   "name": "python3"
  },
  "language_info": {
   "codemirror_mode": {
    "name": "ipython",
    "version": 3
   },
   "file_extension": ".py",
   "mimetype": "text/x-python",
   "name": "python",
   "nbconvert_exporter": "python",
   "pygments_lexer": "ipython3",
   "version": "3.9.7"
  }
 },
 "nbformat": 4,
 "nbformat_minor": 5
}
