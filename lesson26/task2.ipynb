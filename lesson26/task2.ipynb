{
 "cells": [
  {
   "cell_type": "markdown",
   "id": "9316f616",
   "metadata": {},
   "source": [
    "**При вивченні випадкової величини X у результаті 40 незалежних спостережень дістали вибірку:**\n",
    "\n",
    "10, 13, 10, 9, 9, 12, 12, 6, 7, 9, 8, 9, 11, 9, 14, 13, 9, 8, 8, 7, 10, 10, 11, 11, 11, 12, 8, 7 ,9, 10, 14, 13, 8, 8, 9, 10, 11, 11, 12, 12.\n",
    "\n",
    "**Побудувати дискретний статистичний розподіл для цієї вибірки, а також полігон частот і F(х).**\n",
    "**Знайти моду та медіану.**\n"
   ]
  },
  {
   "cell_type": "code",
   "execution_count": 2,
   "id": "fde8bc37",
   "metadata": {},
   "outputs": [
    {
     "name": "stdout",
     "output_type": "stream",
     "text": [
      "{6: 1, 7: 3, 8: 6, 9: 8, 10: 6, 11: 6, 12: 5, 13: 3, 14: 2}\n",
      "1\n",
      "9\n",
      "5\n"
     ]
    }
   ],
   "source": [
    "from fractions import Fraction\n",
    "\n",
    "numbers = [10, 13, 10, 9, 9, 12, 12, 6, 7, 9, 8, 9, 11, 9, 14, 13, 9, 8, 8, 7, 10, 10, 11, 11, 11, 12, 8, 7, 9, 10, 14, 13, 8, 8, 9, 10, 11, 11, 12, 12]\n",
    "\n",
    "vibirka = {}\n",
    "for num in numbers:\n",
    "    if num not in vibirka:\n",
    "        vibirka[num] = 1\n",
    "    else:\n",
    "        vibirka[num] += 1\n",
    "\n",
    "vibirka = dict(sorted(vibirka.items()))\n",
    "\n",
    "n = sum([ni for xi, ni in vibirka.items()])\n",
    "Fx = 0\n",
    "for xi, ni in vibirka.items():\n",
    "    Fx += Fraction(ni, n)\n",
    "\n",
    "s = max(vibirka.values())\n",
    "moda = min([xi for xi, ni in vibirka.items() if ni == s])\n",
    "\n",
    "mediana0 = sorted([ni for xi, ni in vibirka.items()])\n",
    "mediana1 = ''.join(str(mediana0))\n",
    "mediana2 = mediana1.replace('[', '')\n",
    "mediana3 = mediana2.replace(']', '')\n",
    "a = len(mediana3)//2\n",
    "mediana = mediana3[a::a+1]\n",
    "\n",
    "print(vibirka)\n",
    "print(Fx)\n",
    "print(moda)\n",
    "print(mediana)"
   ]
  },
  {
   "attachments": {},
   "cell_type": "markdown",
   "id": "dbab034f",
   "metadata": {},
   "source": [
    "![](https://pbs.twimg.com/media/Fl8X314WQAA8LJh?format=jpg&name=small)"
   ]
  }
 ],
 "metadata": {
  "kernelspec": {
   "display_name": "Python 3 (ipykernel)",
   "language": "python",
   "name": "python3"
  },
  "language_info": {
   "codemirror_mode": {
    "name": "ipython",
    "version": 3
   },
   "file_extension": ".py",
   "mimetype": "text/x-python",
   "name": "python",
   "nbconvert_exporter": "python",
   "pygments_lexer": "ipython3",
   "version": "3.9.7"
  }
 },
 "nbformat": 4,
 "nbformat_minor": 5
}
