{
 "cells": [
  {
   "cell_type": "markdown",
   "id": "ff1377f1",
   "metadata": {},
   "source": [
    "**Ймовірність того, що телевізор витримає гарантійний термін роботи дорівнює 0,9 для всіх телевізорів, які обслуговує гарантійна майстерня. Оцінити ймовірність того, що число телевізорів, які витримають гарантійний термін роботи, буде в межах [85 : 95]**"
   ]
  },
  {
   "cell_type": "markdown",
   "id": "46b3b305",
   "metadata": {},
   "source": [
    "$\n",
    "M(x) = 100 \\cdot 0,9 = 90\n",
    "$\n",
    "\n",
    "$\n",
    "D(x) = 100 \\cdot 0,9 \\cdot (1 - 0,9) = 9\n",
    "$\n",
    "\n",
    "$\n",
    "\\epsilon = 95 - 90 = |85 - 90| = 5\n",
    "$\n",
    "\n",
    "*Нерівність Чебишева:*\n",
    "$$\n",
    "P(|X - M(x)| \\le \\epsilon) \\ge 1 - {D(x) \\over \\epsilon^2} \n",
    "$$\n",
    "\n",
    "$\n",
    "P(|X - 90| \\le 5) \\ge 1 - {9 \\over 5^2} = 0,64 \n",
    "$"
   ]
  }
 ],
 "metadata": {
  "kernelspec": {
   "display_name": "Python 3 (ipykernel)",
   "language": "python",
   "name": "python3"
  },
  "language_info": {
   "codemirror_mode": {
    "name": "ipython",
    "version": 3
   },
   "file_extension": ".py",
   "mimetype": "text/x-python",
   "name": "python",
   "nbconvert_exporter": "python",
   "pygments_lexer": "ipython3",
   "version": "3.9.7"
  }
 },
 "nbformat": 4,
 "nbformat_minor": 5
}
