{
 "cells": [
  {
   "cell_type": "markdown",
   "id": "40aa5a1f",
   "metadata": {},
   "source": [
    "**Випадкова величина X розподілена рівномірно. Знайти щільність її розподілу, якщо P(X$\\ge$3)=0,4 , а математичне сподівання рівне M(X)=2**\n",
    "\n",
    "$f(x) = \\frac{1}{b-a} $\n",
    "\n",
    "$\n",
    "\\begin{cases}\n",
    "\\frac{b-3}{b-a} = 0,4\\\\\n",
    "\\frac{a+b}{2} = 2\n",
    "\\end{cases}\n",
    "$\n",
    "\n",
    "$\n",
    "\\begin{cases}\n",
    "0,6\\cdot b+0,4\\cdot a=3\\\\\n",
    "b=4-a\n",
    "\\end{cases}\n",
    "$\n",
    "\n",
    "$b=7, a=-3$\n",
    "\n",
    "$\n",
    "f(x) = \n",
    "\\begin{cases}\n",
    "0,x\\le-3;\\\\\n",
    "0,1-3\\le x \\le 7;\\\\\n",
    "0,x > 7\n",
    "\\end{cases}\n",
    "$"
   ]
  }
 ],
 "metadata": {
  "kernelspec": {
   "display_name": "Python 3 (ipykernel)",
   "language": "python",
   "name": "python3"
  },
  "language_info": {
   "codemirror_mode": {
    "name": "ipython",
    "version": 3
   },
   "file_extension": ".py",
   "mimetype": "text/x-python",
   "name": "python",
   "nbconvert_exporter": "python",
   "pygments_lexer": "ipython3",
   "version": "3.9.7"
  }
 },
 "nbformat": 4,
 "nbformat_minor": 5
}
