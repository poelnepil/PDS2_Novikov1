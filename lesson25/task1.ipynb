{
 "cells": [
  {
   "cell_type": "code",
   "execution_count": null,
   "id": "0be81ec3",
   "metadata": {},
   "outputs": [],
   "source": []
  },
  {
   "cell_type": "markdown",
   "id": "1cd35e49",
   "metadata": {},
   "source": [
    "**Ймовірність того, що при перевірці деталь виявиться стандартною, дорівнює 0,6. Перевірці підлягають 3 деталі. Побудувати закон розподілу системи двох дискретних випадкових величин X - появи числа бракованих деталей і Y - появи числа стандартних деталей. Обчислити коефіцієнт кореляціі.**\n",
    "\n",
    "| X/Y  |   0   |   1   |  2    |  3    | P(y)  |\n",
    "|:---  | :---: | :---: | :---: | :---: | :---: |\n",
    "|  0   |   0   |   0   |   0   | 0,064 | 0,064 |\n",
    "|  1   |   0   |   0   | 0,288 |  0    | 0,288 |\n",
    "|  2   |   0   | 0,432 |   0   |  0    | 0,432 |\n",
    "|  3   | 0,216 |   0   |   0   |  0    | 0,216 |\n",
    "| P(x) | 0,216 | 0,432 | 0,288 | 0,064 |  1    |\n",
    "\n",
    "$\n",
    "M(x) = 0 \\cdot 0,216 + 1 \\cdot 0,432 + 2 \\cdot 0,288 + 3 \\cdot 0,064 = 1,2\n",
    "$\n",
    "\n",
    "$\n",
    "M(y) = 0 \\cdot 0,064 + 1 \\cdot 0,288 + 2 \\cdot 0,432 + 3 \\cdot 0,216 = 1,8\n",
    "$\n",
    "\n",
    "$\n",
    "M(x^2) = 0^2 \\cdot 0,216 + 1^2 \\cdot 0,432 + 2^2 \\cdot 0,288 + 3^2 \\cdot 0,064 = 2,16\n",
    "$\n",
    "\n",
    "$\n",
    "M(y) = 0^2 \\cdot 0,064 + 1^2 \\cdot 0,288 + 2^2 \\cdot 0,432 + 3^2 \\cdot 0,216 = 3,96\n",
    "$\n",
    "\n",
    "$\n",
    "D(x) = 2,16 - 1,2^2 = 0,72\n",
    "$\n",
    "\n",
    "$\n",
    "D(y) = 3,96 - 1,8^2 = 0,72\n",
    "$\n",
    "\n",
    "$\n",
    "\\delta(x) = \\delta(y) = \\sqrt{0,72)} = 0,8485\n",
    "$\n",
    "\n",
    "$\n",
    "M(XY) = 0\\cdot(0\\cdot0+1\\cdot0+2\\cdot0+0.216)+1\\cdot(0\\cdot0+1\\cdot0+2\\cdot0.432+3\\cdot0)+2\\cdot(0\\cdot0+1\\cdot0.288+2\\cdot0+3\\cdot0)+3\\cdot(0\\cdot0\\cdot0.064+1\\cdot0+2\\cdot0+3\\cdot0) = 1,44\n",
    "$\n",
    "\n",
    "$\n",
    "cov(XY) = 1,44 - 1,2 \\cdot 1,8 = 0,72\n",
    "$\n",
    "\n",
    "$\n",
    "r = {0,72\\over0,8485\\cdot0,8485} = -1,00007\n",
    "$"
   ]
  },
  {
   "cell_type": "code",
   "execution_count": null,
   "id": "1eeb587b",
   "metadata": {},
   "outputs": [],
   "source": []
  }
 ],
 "metadata": {
  "kernelspec": {
   "display_name": "Python 3 (ipykernel)",
   "language": "python",
   "name": "python3"
  },
  "language_info": {
   "codemirror_mode": {
    "name": "ipython",
    "version": 3
   },
   "file_extension": ".py",
   "mimetype": "text/x-python",
   "name": "python",
   "nbconvert_exporter": "python",
   "pygments_lexer": "ipython3",
   "version": "3.9.7"
  }
 },
 "nbformat": 4,
 "nbformat_minor": 5
}
