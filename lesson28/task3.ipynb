{
 "cells": [
  {
   "cell_type": "markdown",
   "id": "32927c46",
   "metadata": {},
   "source": [
    "**Знайти мінімальний об’єм вибірки, при якому з надійністю $\\gamma = 0,99$ точність оцінки математичного сподівання a нормально розподіленої ознаки дорівнює $ \\delta = 0,6 $, якщо середнє квадратичне відхилення $\\sigma = 3$.**\n",
    "\n",
    "$\\gamma = 0,99$\n",
    "\n",
    "$\\overline{\\delta}= 0,6$\n",
    "\n",
    "$\\sigma = 3$\n",
    "\n",
    "$\\Phi = \\frac{0,99}{2} = 0,495$\n",
    "\n",
    "t = 2,58\n",
    "\n",
    "$n = \\frac{2,58^{2}\\cdot{0,3}^{2}}{0,6^{2}} = 166,41$"
   ]
  }
 ],
 "metadata": {
  "kernelspec": {
   "display_name": "Python 3 (ipykernel)",
   "language": "python",
   "name": "python3"
  },
  "language_info": {
   "codemirror_mode": {
    "name": "ipython",
    "version": 3
   },
   "file_extension": ".py",
   "mimetype": "text/x-python",
   "name": "python",
   "nbconvert_exporter": "python",
   "pygments_lexer": "ipython3",
   "version": "3.9.7"
  }
 },
 "nbformat": 4,
 "nbformat_minor": 5
}
