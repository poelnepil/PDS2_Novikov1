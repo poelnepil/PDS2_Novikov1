{
 "cells": [
  {
   "cell_type": "code",
   "execution_count": null,
   "id": "1b9e8c67",
   "metadata": {},
   "outputs": [],
   "source": []
  },
  {
   "cell_type": "markdown",
   "id": "210801f3",
   "metadata": {},
   "source": [
    "**Із генеральної сукупності, розподіленої за нормальним законом, отримано вибірку об’ємом n = 20 .\n",
    "Знайти з надійністю y = 0,95 інтервальну оцінку для середнього квадратичного відхилення  генеральної сукупності.**\n",
    "\n",
    "|  xi  |   1   |   2   |   4   |   6   |   7   |\n",
    "|:---  | :---: | :---: | :---: | :---: | :---: |\n",
    "|  ni  |   2   |   3   |   10  |   3   |   2   |\n",
    "\n",
    "$\\overline{Xв} = 1\\cdot2 + 2\\cdot3 + 4\\cdot10 + 6\\cdot3 + 7\\cdot2 = 4$\n",
    "\n",
    "$S^{2}$ = $(1-4)^{2}\\cdot2 +(2-4)^{2}\\cdot3 + (4-4)^{2}\\cdot10 + (6-4)^{2}\\cdot3 +(7-4)^{2}\\cdot2 \\over 20 - 1$ = 3,2 \n",
    "\n",
    "$\\Phi(t) = \\sqrt{3,2}  = 1,79$\n",
    "\n",
    "t = 2,093\n",
    "\n",
    "$\\delta = 2,093\\cdot\\frac{1,79}{\\sqrt{20}} = 0,84$\n",
    "\n",
    "$4 - 2,093\\cdot\\frac{1,79}{\\sqrt{20}} = 3,16$\n",
    "\n",
    "$4 + 2,093\\cdot\\frac{1,79}{\\sqrt{20}} = 4,84$\n",
    "\n",
    "$3,16 < q < 4,84$\n"
   ]
  }
 ],
 "metadata": {
  "kernelspec": {
   "display_name": "Python 3 (ipykernel)",
   "language": "python",
   "name": "python3"
  },
  "language_info": {
   "codemirror_mode": {
    "name": "ipython",
    "version": 3
   },
   "file_extension": ".py",
   "mimetype": "text/x-python",
   "name": "python",
   "nbconvert_exporter": "python",
   "pygments_lexer": "ipython3",
   "version": "3.9.7"
  }
 },
 "nbformat": 4,
 "nbformat_minor": 5
}
