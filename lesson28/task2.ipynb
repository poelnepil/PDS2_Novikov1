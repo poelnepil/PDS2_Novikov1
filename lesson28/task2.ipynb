{
 "cells": [
  {
   "cell_type": "markdown",
   "id": "f545d7ac",
   "metadata": {},
   "source": [
    "**Знайти з надійністю y = 0,95  інтервальну оцінку для ймовірності настання події А в кожному із n = 100 незалежних повторних випробувань, якщо подія відбулась m = 40 раз.**\n",
    "\n",
    "$\\gamma = 0,95$\n",
    "\n",
    "n = 100\n",
    "\n",
    "m = 40\n",
    "\n",
    "$\\Phi(t) = \\frac{0,95}{2} = 0,475$\n",
    "\n",
    "t = 1,96 \n",
    "\n",
    "\n",
    "$p1 = \\frac{1}{1,96^{2} + 100}$$\\cdot(40+\\frac{1,96^{2}}{2} - 1,96\\cdot\\sqrt{{(\\frac{40\\cdot60}{100}})+(\\frac{{1,96}^{2}}{4})}  ) = 0,309$\n",
    "\n",
    "$p2= \\frac{1}{1,96^{2} + 100}$$\\cdot(40+\\frac{1,96^{2}}{2} + 1,96\\cdot\\sqrt{{(\\frac{40\\cdot60}{100}})+(\\frac{{1,96}^{2}}{4})}  ) = 0,497$\n",
    "\n",
    "**309 < p < 0,497**\n",
    "\n"
   ]
  }
 ],
 "metadata": {
  "kernelspec": {
   "display_name": "Python 3 (ipykernel)",
   "language": "python",
   "name": "python3"
  },
  "language_info": {
   "codemirror_mode": {
    "name": "ipython",
    "version": 3
   },
   "file_extension": ".py",
   "mimetype": "text/x-python",
   "name": "python",
   "nbconvert_exporter": "python",
   "pygments_lexer": "ipython3",
   "version": "3.9.7"
  }
 },
 "nbformat": 4,
 "nbformat_minor": 5
}
