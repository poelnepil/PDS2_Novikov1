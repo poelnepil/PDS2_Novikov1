{
 "cells": [
  {
   "cell_type": "markdown",
   "id": "ba3f3dee",
   "metadata": {},
   "source": [
    "**Для сигналізації про аварію встановлено два незалежно працюючих сигналізатора. Ймовірність того, що при аварії спрацює перший сигналізатор дорівнює 0,95, ця ж ймовірність для другого сигналізатора дорівнює 0,9. Знайти ймовірність того, що при аварії спрацює:**\n",
    "\n",
    "а) хоча б один сигналізатор;\n",
    "\n",
    "б) тільки один сигналізатор."
   ]
  },
  {
   "cell_type": "code",
   "execution_count": 3,
   "id": "ab17a29d",
   "metadata": {},
   "outputs": [
    {
     "name": "stdout",
     "output_type": "stream",
     "text": [
      "a) 99.5 %\n",
      "б) 14.0 %\n"
     ]
    }
   ],
   "source": [
    "pa1 = 0.9\n",
    "pa2 = 0.95\n",
    "\n",
    "pb = (pa1+pa2) - (pa1*pa2)\n",
    "print(f'a) {round(pb*100, 2)} %')\n",
    "\n",
    "p_a1 = 1 - pa1\n",
    "p_a2 = 1 - pa2\n",
    "\n",
    "pc = (pa1*p_a2) + (pa2*p_a1)\n",
    "print(f'б) {round(pc*100, 2)} %')"
   ]
  }
 ],
 "metadata": {
  "kernelspec": {
   "display_name": "Python 3 (ipykernel)",
   "language": "python",
   "name": "python3"
  },
  "language_info": {
   "codemirror_mode": {
    "name": "ipython",
    "version": 3
   },
   "file_extension": ".py",
   "mimetype": "text/x-python",
   "name": "python",
   "nbconvert_exporter": "python",
   "pygments_lexer": "ipython3",
   "version": "3.9.7"
  }
 },
 "nbformat": 4,
 "nbformat_minor": 5
}
