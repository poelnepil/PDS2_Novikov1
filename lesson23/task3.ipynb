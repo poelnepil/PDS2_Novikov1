{
 "cells": [
  {
   "cell_type": "markdown",
   "id": "0e313a40",
   "metadata": {},
   "source": [
    "**Два верстати-автомати виготовляють однакові вироби, які попадають на загальний конвеєр. Продуктивність першого автомата в два рази більше ніж продуктивність другого. Перший верстат-автомат виготовляє 60% виробів вищого гатунку, а другий - 84%.**\n",
    "\n",
    "а) Знайти ймовірність того, що навмання взятий з конвеєра виріб вищого гатунку.\n",
    "\n",
    "б) Навмання взятий з конвеєра виріб має вищий гатунок. Знайти ймовірність того, що він виготовлений на першому верстаті."
   ]
  },
  {
   "cell_type": "markdown",
   "id": "b343837c",
   "metadata": {},
   "source": [
    "*а) обчислюємо за формулою повної ймовірності:*"
   ]
  },
  {
   "cell_type": "code",
   "execution_count": 3,
   "id": "cd0bd115",
   "metadata": {},
   "outputs": [
    {
     "name": "stdout",
     "output_type": "stream",
     "text": [
      "68.0 %\n"
     ]
    }
   ],
   "source": [
    "pa = ((2/3) * (60/100)) + ((1/3)*(84/100))\n",
    "print(f'{round(pa*100, 2)} %')"
   ]
  },
  {
   "cell_type": "markdown",
   "id": "72b46429",
   "metadata": {},
   "source": [
    "*б) обчислюємо за формулою Байєса:*"
   ]
  },
  {
   "cell_type": "code",
   "execution_count": 4,
   "id": "5c10a58b",
   "metadata": {},
   "outputs": [
    {
     "name": "stdout",
     "output_type": "stream",
     "text": [
      "58.82 %\n"
     ]
    }
   ],
   "source": [
    "pv1a = (2/3 * 0.6)/pa\n",
    "print(f'{round(pv1a*100, 2)} %')"
   ]
  },
  {
   "cell_type": "code",
   "execution_count": null,
   "id": "a54250c4",
   "metadata": {},
   "outputs": [],
   "source": []
  }
 ],
 "metadata": {
  "kernelspec": {
   "display_name": "Python 3 (ipykernel)",
   "language": "python",
   "name": "python3"
  },
  "language_info": {
   "codemirror_mode": {
    "name": "ipython",
    "version": 3
   },
   "file_extension": ".py",
   "mimetype": "text/x-python",
   "name": "python",
   "nbconvert_exporter": "python",
   "pygments_lexer": "ipython3",
   "version": "3.9.7"
  }
 },
 "nbformat": 4,
 "nbformat_minor": 5
}
