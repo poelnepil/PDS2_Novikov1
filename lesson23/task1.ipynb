{
 "cells": [
  {
   "cell_type": "markdown",
   "id": "f02ab557",
   "metadata": {},
   "source": [
    "**Прилад містить 7 елементів, з яких 3 зношені. При включенні приладу випадковим чином включаються 3 елементи. Знайти ймовірність того, що при цьому виявляться включеними два незношені елементи.**"
   ]
  },
  {
   "cell_type": "markdown",
   "id": "e4978602",
   "metadata": {},
   "source": [
    "*обчислюємо за формулою кількості сполучень:*"
   ]
  },
  {
   "cell_type": "code",
   "execution_count": 2,
   "id": "bbc7b930",
   "metadata": {
    "scrolled": true
   },
   "outputs": [
    {
     "name": "stdout",
     "output_type": "stream",
     "text": [
      "51.43 %\n"
     ]
    }
   ],
   "source": [
    "from math import *\n",
    "\n",
    "n = factorial(7)/((factorial(3))*(factorial(7-3)))\n",
    "\n",
    "m = (factorial(4)/(factorial(2)*factorial(4-2))) * (factorial(3)/(factorial(1)*factorial(3-1)))\n",
    "\n",
    "pa = m/n\n",
    "\n",
    "print(f'{round(pa*100, 2)} %')"
   ]
  }
 ],
 "metadata": {
  "kernelspec": {
   "display_name": "Python 3 (ipykernel)",
   "language": "python",
   "name": "python3"
  },
  "language_info": {
   "codemirror_mode": {
    "name": "ipython",
    "version": 3
   },
   "file_extension": ".py",
   "mimetype": "text/x-python",
   "name": "python",
   "nbconvert_exporter": "python",
   "pygments_lexer": "ipython3",
   "version": "3.9.7"
  }
 },
 "nbformat": 4,
 "nbformat_minor": 5
}
