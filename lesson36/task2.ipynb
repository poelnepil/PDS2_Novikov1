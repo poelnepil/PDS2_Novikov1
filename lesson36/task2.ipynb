{
 "cells": [
  {
   "cell_type": "code",
   "execution_count": 1,
   "id": "e98d0200",
   "metadata": {},
   "outputs": [],
   "source": [
    "import pandas as pd\n",
    "import numpy as np\n",
    "import matplotlib.pyplot as plt\n",
    "from sklearn.model_selection import KFold, StratifiedKFold, cross_val_score\n",
    "from sklearn import linear_model, tree, ensemble"
   ]
  },
  {
   "cell_type": "code",
   "execution_count": 2,
   "id": "c5dc489e",
   "metadata": {},
   "outputs": [],
   "source": [
    "td = pd.read_csv('petrol_consumption2.csv')"
   ]
  },
  {
   "cell_type": "code",
   "execution_count": 3,
   "id": "387cd04a",
   "metadata": {},
   "outputs": [
    {
     "data": {
      "text/html": [
       "<div>\n",
       "<style scoped>\n",
       "    .dataframe tbody tr th:only-of-type {\n",
       "        vertical-align: middle;\n",
       "    }\n",
       "\n",
       "    .dataframe tbody tr th {\n",
       "        vertical-align: top;\n",
       "    }\n",
       "\n",
       "    .dataframe thead th {\n",
       "        text-align: right;\n",
       "    }\n",
       "</style>\n",
       "<table border=\"1\" class=\"dataframe\">\n",
       "  <thead>\n",
       "    <tr style=\"text-align: right;\">\n",
       "      <th></th>\n",
       "      <th>Petrol_tax</th>\n",
       "      <th>Average_income</th>\n",
       "      <th>Paved_Highways</th>\n",
       "      <th>Population_Driver_licence(%)</th>\n",
       "      <th>Petrol_Consumption</th>\n",
       "    </tr>\n",
       "  </thead>\n",
       "  <tbody>\n",
       "    <tr>\n",
       "      <th>0</th>\n",
       "      <td>9.0</td>\n",
       "      <td>3571</td>\n",
       "      <td>1976</td>\n",
       "      <td>0.525</td>\n",
       "      <td>541</td>\n",
       "    </tr>\n",
       "    <tr>\n",
       "      <th>1</th>\n",
       "      <td>9.0</td>\n",
       "      <td>4092</td>\n",
       "      <td>1250</td>\n",
       "      <td>0.572</td>\n",
       "      <td>524</td>\n",
       "    </tr>\n",
       "    <tr>\n",
       "      <th>2</th>\n",
       "      <td>9.0</td>\n",
       "      <td>3865</td>\n",
       "      <td>1586</td>\n",
       "      <td>0.580</td>\n",
       "      <td>561</td>\n",
       "    </tr>\n",
       "    <tr>\n",
       "      <th>3</th>\n",
       "      <td>7.5</td>\n",
       "      <td>4870</td>\n",
       "      <td>2351</td>\n",
       "      <td>0.529</td>\n",
       "      <td>414</td>\n",
       "    </tr>\n",
       "    <tr>\n",
       "      <th>4</th>\n",
       "      <td>8.0</td>\n",
       "      <td>4399</td>\n",
       "      <td>431</td>\n",
       "      <td>0.544</td>\n",
       "      <td>410</td>\n",
       "    </tr>\n",
       "  </tbody>\n",
       "</table>\n",
       "</div>"
      ],
      "text/plain": [
       "   Petrol_tax  Average_income  Paved_Highways  Population_Driver_licence(%)  \\\n",
       "0         9.0            3571            1976                         0.525   \n",
       "1         9.0            4092            1250                         0.572   \n",
       "2         9.0            3865            1586                         0.580   \n",
       "3         7.5            4870            2351                         0.529   \n",
       "4         8.0            4399             431                         0.544   \n",
       "\n",
       "   Petrol_Consumption  \n",
       "0                 541  \n",
       "1                 524  \n",
       "2                 561  \n",
       "3                 414  \n",
       "4                 410  "
      ]
     },
     "execution_count": 3,
     "metadata": {},
     "output_type": "execute_result"
    }
   ],
   "source": [
    "td.head()"
   ]
  },
  {
   "cell_type": "code",
   "execution_count": 4,
   "id": "33e4acc5",
   "metadata": {},
   "outputs": [],
   "source": [
    "y = td.Petrol_Consumption          \n",
    "X = td.drop(['Petrol_Consumption'], axis=1)"
   ]
  },
  {
   "cell_type": "code",
   "execution_count": 9,
   "id": "36ea0e8f",
   "metadata": {},
   "outputs": [
    {
     "name": "stdout",
     "output_type": "stream",
     "text": [
      "Train 1 : [ 0  1  2  3  5  6  7  8  9 10 11 13 14 15 16 17 18 20 21 22 23 28 29 30\n",
      " 31 32 33 34 35 36 38 39 41 42 44 45 46 47] Test: [ 4 12 19 24 25 26 27 37 40 43]\n",
      "Train 2 : [ 0  1  2  4  5  7 10 11 12 14 16 18 19 20 21 22 23 24 25 26 27 28 29 30\n",
      " 31 32 34 35 36 37 38 40 41 42 43 44 46 47] Test: [ 3  6  8  9 13 15 17 33 39 45]\n",
      "Train 3 : [ 1  2  3  4  6  7  8  9 10 12 13 14 15 17 18 19 20 21 22 23 24 25 26 27\n",
      " 28 33 35 36 37 38 39 40 41 42 43 44 45 47] Test: [ 0  5 11 16 29 30 31 32 34 46]\n",
      "Train 4 : [ 0  3  4  5  6  7  8  9 11 12 13 14 15 16 17 18 19 20 22 24 25 26 27 28\n",
      " 29 30 31 32 33 34 37 38 39 40 42 43 45 46 47] Test: [ 1  2 10 21 23 35 36 41 44]\n",
      "Train 5 : [ 0  1  2  3  4  5  6  8  9 10 11 12 13 15 16 17 19 21 23 24 25 26 27 29\n",
      " 30 31 32 33 34 35 36 37 39 40 41 43 44 45 46] Test: [ 7 14 18 20 22 28 38 42 47]\n"
     ]
    }
   ],
   "source": [
    "kf = KFold(n_splits=5, shuffle=True, random_state=42)\n",
    "c = 1\n",
    "for train_index, test_index in kf.split(X):\n",
    "    print(f'Train {c} :', train_index, 'Test:', test_index)\n",
    "    c += 1"
   ]
  },
  {
   "cell_type": "code",
   "execution_count": 10,
   "id": "c14eacb1",
   "metadata": {},
   "outputs": [
    {
     "name": "stdout",
     "output_type": "stream",
     "text": [
      "Scores for each fold: [0.3913664  0.63392548 0.05222032 0.41270325 0.76147919]\n"
     ]
    },
    {
     "data": {
      "text/plain": [
       "0.671072968904877"
      ]
     },
     "execution_count": 10,
     "metadata": {},
     "output_type": "execute_result"
    }
   ],
   "source": [
    "score = cross_val_score(linear_model.LinearRegression(), X, y, cv= kf)\n",
    "print(f'Scores for each fold: {score}')\n",
    "np.sqrt(score.mean())"
   ]
  },
  {
   "cell_type": "markdown",
   "id": "c9cbebb9",
   "metadata": {},
   "source": [
    "**Використав к-кратну кросвалідацію він здався мені найбліш зрозумілим, по даним оцінки модель не можна використовувати, так як оцінка моделі вийшла досить слабкою (0.67).**"
   ]
  }
 ],
 "metadata": {
  "kernelspec": {
   "display_name": "Python 3 (ipykernel)",
   "language": "python",
   "name": "python3"
  },
  "language_info": {
   "codemirror_mode": {
    "name": "ipython",
    "version": 3
   },
   "file_extension": ".py",
   "mimetype": "text/x-python",
   "name": "python",
   "nbconvert_exporter": "python",
   "pygments_lexer": "ipython3",
   "version": "3.9.7"
  }
 },
 "nbformat": 4,
 "nbformat_minor": 5
}
